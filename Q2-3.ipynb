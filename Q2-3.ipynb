{
 "cells": [
  {
   "cell_type": "code",
   "execution_count": 2,
   "id": "01d2dcb1-d941-4281-9993-87fdaf6454cb",
   "metadata": {},
   "outputs": [],
   "source": [
    "from pyspark.sql import SparkSession\n",
    "from pyspark.sql import functions as F\n",
    "from pyspark.sql.types import TimestampType\n",
    "import shutil\n",
    "from pyspark.sql.functions import col, when\n",
    "from pyspark.sql.types import StructType,StructField,DoubleType, StringType, IntegerType\n",
    "from pyspark import SparkConf\n",
    "from pyspark.sql import SparkSession"
   ]
  },
  {
   "cell_type": "markdown",
   "id": "4635998f-75ff-467c-a4c4-0577a86fda83",
   "metadata": {},
   "source": [
    "启动MySQL服务\n",
    "service mysql start\n",
    "查看MySQL服务状态\n",
    "service mysql status\n",
    "连接MySQL数据库（首次连接）\n",
    "mysql -S /var/run/mysqld/mysqld.sock -uroot\n",
    "后续连接MySQL数据库\n",
    "mysql -uroot -p"
   ]
  },
  {
   "cell_type": "code",
   "execution_count": null,
   "id": "72012cc0-0a14-4174-902d-b861039483b5",
   "metadata": {},
   "outputs": [],
   "source": [
    "创建数据库：\n",
    "create database Survival_Analysis"
   ]
  },
  {
   "cell_type": "code",
   "execution_count": 3,
   "id": "0ca97877-141b-4c50-bfec-4fd769700227",
   "metadata": {},
   "outputs": [
    {
     "name": "stderr",
     "output_type": "stream",
     "text": [
      "25/04/07 10:41:31 WARN NativeCodeLoader: Unable to load native-hadoop library for your platform... using builtin-java classes where applicable\n",
      "Setting default log level to \"WARN\".\n",
      "To adjust logging level use sc.setLogLevel(newLevel). For SparkR, use setLogLevel(newLevel).\n",
      "25/04/07 10:41:32 WARN Utils: Service 'SparkUI' could not bind on port 4058. Attempting port 4059.\n",
      "25/04/07 10:41:32 WARN Utils: Service 'SparkUI' could not bind on port 4059. Attempting port 4060.\n",
      "25/04/07 10:41:32 WARN Utils: Service 'SparkUI' could not bind on port 4060. Attempting port 4061.\n",
      "25/04/07 10:41:32 WARN Utils: Service 'SparkUI' could not bind on port 4061. Attempting port 4062.\n"
     ]
    }
   ],
   "source": [
    "conf = SparkConf().setAppName(\"Spark Read MySQL\").set(\"spark.jars\", \"/data/lab/mysql-connector-j-8.4.0.jar\") .set(\"spark.ui.port\", \"4058\")\n",
    "spark = SparkSession.builder.config(conf=conf).getOrCreate()\n"
   ]
  },
  {
   "cell_type": "code",
   "execution_count": 4,
   "id": "5ac8b231-3fd7-4ef5-a109-11b93e55c9a9",
   "metadata": {},
   "outputs": [],
   "source": [
    "# Define schema\n",
    "schema = StructType([\n",
    "  StructField('customerID', StringType()),\n",
    "  StructField('gender', StringType()),\n",
    "  StructField('seniorCitizen', DoubleType()),\n",
    "  StructField('partner', StringType()),\n",
    "  StructField('dependents', StringType()),\n",
    "  StructField('tenure', DoubleType()),\n",
    "  StructField('phoneService', StringType()),\n",
    "  StructField('multipleLines', StringType()),\n",
    "  StructField('internetService', StringType()), \n",
    "  StructField('onlineSecurity', StringType()),\n",
    "  StructField('onlineBackup', StringType()),\n",
    "  StructField('deviceProtection', StringType()),\n",
    "  StructField('techSupport', StringType()),\n",
    "  StructField('streamingTV', StringType()),\n",
    "  StructField('streamingMovies', StringType()),\n",
    "  StructField('contract', StringType()),\n",
    "  StructField('paperlessBilling', StringType()),\n",
    "  StructField('paymentMethod', StringType()),\n",
    "  StructField('monthlyCharges', DoubleType()),\n",
    "  StructField('totalCharges', DoubleType()),\n",
    "  StructField('churn', StringType())\n",
    "  ])\n"
   ]
  },
  {
   "cell_type": "code",
   "execution_count": 4,
   "id": "fae4f943-8b76-4348-84c0-0233c14dd277",
   "metadata": {},
   "outputs": [],
   "source": [
    "#读取数据\n",
    "bronze_df = spark.read.csv('Telco-Customer-Churn.csv', header=True, schema=schema)\n"
   ]
  },
  {
   "cell_type": "code",
   "execution_count": 7,
   "id": "3944d2e6-fec8-4150-a1fe-13e63e9636dd",
   "metadata": {},
   "outputs": [],
   "source": [
    "#进行数据清洗，转换数据\n",
    "silver_df = bronze_df.withColumn('churn',when(col('churn') == 'Yes',1).when(col('churn') == 'No',0).otherwise('Unknown'))\\\n",
    "                     .filter(col('contract') == 'Month-to-month')\\\n",
    "                     .filter(col('internetService') != 'No')\n"
   ]
  },
  {
   "cell_type": "code",
   "execution_count": 10,
   "id": "e353b284-0764-4ab5-804e-0383da5b2e73",
   "metadata": {},
   "outputs": [
    {
     "name": "stderr",
     "output_type": "stream",
     "text": [
      "                                                                                "
     ]
    }
   ],
   "source": [
    "from pyspark.sql.types import StructType, StructField, StringType, IntegerType, FloatType\n",
    "from pyspark import SparkConf\n",
    "from pyspark.sql import SparkSession\n",
    "\n",
    "# data =result_df\n",
    "# df = spark.createDataFrame(data, schema)\n",
    "bronze_df.write.format(\"jdbc\") \\\n",
    "        .option(\"url\", \"jdbc:mysql://localhost:3306/Survival_Analysis?useSSL=false&serverTimezone=UTC\") \\\n",
    "        .option(\"driver\", \"com.mysql.cj.jdbc.Driver\") \\\n",
    "        .option(\"dbtable\", \"bronze_df\") \\\n",
    "        .option(\"user\", \"root\") \\\n",
    "        .option(\"password\", \"123456\") \\\n",
    "        .mode(\"append\") \\\n",
    "        .save()\n",
    "\n",
    "silver_df.write.format(\"jdbc\") \\\n",
    "        .option(\"url\", \"jdbc:mysql://localhost:3306/Survival_Analysis?useSSL=false&serverTimezone=UTC\") \\\n",
    "        .option(\"driver\", \"com.mysql.cj.jdbc.Driver\") \\\n",
    "        .option(\"dbtable\", \"silver_df\") \\\n",
    "        .option(\"user\", \"root\") \\\n",
    "        .option(\"password\", \"123456\") \\\n",
    "        .mode(\"append\") \\\n",
    "        .save()"
   ]
  },
  {
   "cell_type": "code",
   "execution_count": 17,
   "id": "279715c3-d4ca-46a5-b178-e17c973af18f",
   "metadata": {},
   "outputs": [
    {
     "name": "stdout",
     "output_type": "stream",
     "text": [
      "+----------+------+-------------+-------+----------+------+------------+----------------+---------------+-------------------+-------------------+-------------------+-------------------+-------------------+-------------------+--------------+----------------+--------------------+--------------+------------+-----+\n",
      "|customerID|gender|seniorCitizen|partner|dependents|tenure|phoneService|   multipleLines|internetService|     onlineSecurity|       onlineBackup|   deviceProtection|        techSupport|        streamingTV|    streamingMovies|      contract|paperlessBilling|       paymentMethod|monthlyCharges|totalCharges|churn|\n",
      "+----------+------+-------------+-------+----------+------+------------+----------------+---------------+-------------------+-------------------+-------------------+-------------------+-------------------+-------------------+--------------+----------------+--------------------+--------------+------------+-----+\n",
      "|7590-VHVEG|Female|          0.0|    Yes|        No|   1.0|          No|No phone service|            DSL|                 No|                Yes|                 No|                 No|                 No|                 No|Month-to-month|             Yes|    Electronic check|         29.85|       29.85|   No|\n",
      "|5575-GNVDE|  Male|          0.0|     No|        No|  34.0|         Yes|              No|            DSL|                Yes|                 No|                Yes|                 No|                 No|                 No|      One year|              No|        Mailed check|         56.95|      1889.5|   No|\n",
      "|3668-QPYBK|  Male|          0.0|     No|        No|   2.0|         Yes|              No|            DSL|                Yes|                Yes|                 No|                 No|                 No|                 No|Month-to-month|             Yes|        Mailed check|         53.85|      108.15|  Yes|\n",
      "|7795-CFOCW|  Male|          0.0|     No|        No|  45.0|          No|No phone service|            DSL|                Yes|                 No|                Yes|                Yes|                 No|                 No|      One year|              No|Bank transfer (au...|          42.3|     1840.75|   No|\n",
      "|9237-HQITU|Female|          0.0|     No|        No|   2.0|         Yes|              No|    Fiber optic|                 No|                 No|                 No|                 No|                 No|                 No|Month-to-month|             Yes|    Electronic check|          70.7|      151.65|  Yes|\n",
      "|9305-CDSKC|Female|          0.0|     No|        No|   8.0|         Yes|             Yes|    Fiber optic|                 No|                 No|                Yes|                 No|                Yes|                Yes|Month-to-month|             Yes|    Electronic check|         99.65|       820.5|  Yes|\n",
      "|1452-KIOVK|  Male|          0.0|     No|       Yes|  22.0|         Yes|             Yes|    Fiber optic|                 No|                Yes|                 No|                 No|                Yes|                 No|Month-to-month|             Yes|Credit card (auto...|          89.1|      1949.4|   No|\n",
      "|6713-OKOMC|Female|          0.0|     No|        No|  10.0|          No|No phone service|            DSL|                Yes|                 No|                 No|                 No|                 No|                 No|Month-to-month|              No|        Mailed check|         29.75|       301.9|   No|\n",
      "|7892-POOKP|Female|          0.0|    Yes|        No|  28.0|         Yes|             Yes|    Fiber optic|                 No|                 No|                Yes|                Yes|                Yes|                Yes|Month-to-month|             Yes|    Electronic check|         104.8|     3046.05|  Yes|\n",
      "|6388-TABGU|  Male|          0.0|     No|       Yes|  62.0|         Yes|              No|            DSL|                Yes|                Yes|                 No|                 No|                 No|                 No|      One year|              No|Bank transfer (au...|         56.15|     3487.95|   No|\n",
      "|9763-GRSKD|  Male|          0.0|    Yes|       Yes|  13.0|         Yes|              No|            DSL|                Yes|                 No|                 No|                 No|                 No|                 No|Month-to-month|             Yes|        Mailed check|         49.95|      587.45|   No|\n",
      "|7469-LKBCI|  Male|          0.0|     No|        No|  16.0|         Yes|              No|             No|No internet service|No internet service|No internet service|No internet service|No internet service|No internet service|      Two year|              No|Credit card (auto...|         18.95|       326.8|   No|\n",
      "|8091-TTVAX|  Male|          0.0|    Yes|        No|  58.0|         Yes|             Yes|    Fiber optic|                 No|                 No|                Yes|                 No|                Yes|                Yes|      One year|              No|Credit card (auto...|        100.35|      5681.1|   No|\n",
      "|0280-XJGEX|  Male|          0.0|     No|        No|  49.0|         Yes|             Yes|    Fiber optic|                 No|                Yes|                Yes|                 No|                Yes|                Yes|Month-to-month|             Yes|Bank transfer (au...|         103.7|      5036.3|  Yes|\n",
      "|5129-JLPIS|  Male|          0.0|     No|        No|  25.0|         Yes|              No|    Fiber optic|                Yes|                 No|                Yes|                Yes|                Yes|                Yes|Month-to-month|             Yes|    Electronic check|         105.5|     2686.05|   No|\n",
      "|3655-SNQYZ|Female|          0.0|    Yes|       Yes|  69.0|         Yes|             Yes|    Fiber optic|                Yes|                Yes|                Yes|                Yes|                Yes|                Yes|      Two year|              No|Credit card (auto...|        113.25|     7895.15|   No|\n",
      "|8191-XWSZG|Female|          0.0|     No|        No|  52.0|         Yes|              No|             No|No internet service|No internet service|No internet service|No internet service|No internet service|No internet service|      One year|              No|        Mailed check|         20.65|     1022.95|   No|\n",
      "|9959-WOFKT|  Male|          0.0|     No|       Yes|  71.0|         Yes|             Yes|    Fiber optic|                Yes|                 No|                Yes|                 No|                Yes|                Yes|      Two year|              No|Bank transfer (au...|         106.7|     7382.25|   No|\n",
      "|4190-MFLUW|Female|          0.0|    Yes|       Yes|  10.0|         Yes|              No|            DSL|                 No|                 No|                Yes|                Yes|                 No|                 No|Month-to-month|              No|Credit card (auto...|          55.2|      528.35|  Yes|\n",
      "|4183-MYFRB|Female|          0.0|     No|        No|  21.0|         Yes|              No|    Fiber optic|                 No|                Yes|                Yes|                 No|                 No|                Yes|Month-to-month|             Yes|    Electronic check|         90.05|      1862.9|   No|\n",
      "+----------+------+-------------+-------+----------+------+------------+----------------+---------------+-------------------+-------------------+-------------------+-------------------+-------------------+-------------------+--------------+----------------+--------------------+--------------+------------+-----+\n",
      "only showing top 20 rows\n",
      "\n"
     ]
    }
   ],
   "source": [
    "jdbc_df.show()"
   ]
  },
  {
   "cell_type": "code",
   "execution_count": 7,
   "id": "d78f6fc9-b75e-4907-862f-156a498a9efe",
   "metadata": {},
   "outputs": [
    {
     "name": "stdout",
     "output_type": "stream",
     "text": [
      "root\n",
      " |-- customerID: string (nullable = true)\n",
      " |-- gender: string (nullable = true)\n",
      " |-- seniorCitizen: double (nullable = true)\n",
      " |-- partner: string (nullable = true)\n",
      " |-- dependents: string (nullable = true)\n",
      " |-- tenure: double (nullable = true)\n",
      " |-- phoneService: string (nullable = true)\n",
      " |-- multipleLines: string (nullable = true)\n",
      " |-- internetService: string (nullable = true)\n",
      " |-- onlineSecurity: string (nullable = true)\n",
      " |-- onlineBackup: string (nullable = true)\n",
      " |-- deviceProtection: string (nullable = true)\n",
      " |-- techSupport: string (nullable = true)\n",
      " |-- streamingTV: string (nullable = true)\n",
      " |-- streamingMovies: string (nullable = true)\n",
      " |-- contract: string (nullable = true)\n",
      " |-- paperlessBilling: string (nullable = true)\n",
      " |-- paymentMethod: string (nullable = true)\n",
      " |-- monthlyCharges: double (nullable = true)\n",
      " |-- totalCharges: double (nullable = true)\n",
      " |-- churn: string (nullable = true)\n",
      "\n"
     ]
    }
   ],
   "source": [
    "jdbc_df = spark.read.format(\"jdbc\") \\\n",
    "    .option(\"url\", \"jdbc:mysql://localhost:3306/Survival_Analysis?useSSL=false&serverTimezone=UTC\") \\\n",
    "    .option(\"driver\", \"com.mysql.cj.jdbc.Driver\") \\\n",
    "    .option(\"dbtable\", \"bronze_df\") \\\n",
    "    .option(\"user\", \"root\") \\\n",
    "    .option(\"password\", \"123456\") \\\n",
    "    .load()\n",
    "jdbc_df.createOrReplaceTempView(\"j\")  # 注册为名为 \"jdbc_table\" 的临时视图\n",
    "jdbc_df.printSchema()\n"
   ]
  },
  {
   "cell_type": "markdown",
   "id": "e8aca844-69c5-4ceb-8776-7375a44ae19f",
   "metadata": {},
   "source": [
    "下列是几个deepdeek生成的sql查询语句，提示词为：\n",
    "你是一个只能SQL生成器，我这里有一个名叫j的表，结构为：\n",
    "|-- customerID: string (nullable = true)\n",
    " |-- gender: string (nullable = true)\n",
    " |-- seniorCitizen: double (nullable = true)\n",
    " |-- partner: string (nullable = true)\n",
    " |-- dependents: string (nullable = true)\n",
    " |-- tenure: double (nullable = true)\n",
    " |-- phoneService: string (nullable = true)\n",
    " |-- multipleLines: string (nullable = true)\n",
    " |-- internetService: string (nullable = true)\n",
    " |-- onlineSecurity: string (nullable = true)\n",
    " |-- onlineBackup: string (nullable = true)\n",
    " |-- deviceProtection: string (nullable = true)\n",
    " |-- techSupport: string (nullable = true)\n",
    " |-- streamingTV: string (nullable = true)\n",
    " |-- streamingMovies: string (nullable = true)\n",
    " |-- contract: string (nullable = true)\n",
    " |-- paperlessBilling: string (nullable = true)\n",
    " |-- paymentMethod: string (nullable = true)\n",
    " |-- monthlyCharges: double (nullable = true)\n",
    " |-- totalCharges: double (nullable = true)\n",
    " |-- churn: string (nullable = true)\n",
    " 请生成一些有趣的查询，直接给出sql语句即可"
   ]
  },
  {
   "cell_type": "code",
   "execution_count": 10,
   "id": "8b015357-21bd-41c1-9d0c-f26937b9a755",
   "metadata": {},
   "outputs": [
    {
     "name": "stderr",
     "output_type": "stream",
     "text": [
      "                                                                                "
     ]
    },
    {
     "name": "stdout",
     "output_type": "stream",
     "text": [
      "+----------+------+--------------+------------+\n",
      "|customerID|tenure|monthlyCharges|totalCharges|\n",
      "+----------+------+--------------+------------+\n",
      "|7892-POOKP|  28.0|         104.8|     3046.05|\n",
      "|0280-XJGEX|  49.0|         103.7|      5036.3|\n",
      "|6467-CHFZW|  47.0|         99.35|     4749.15|\n",
      "|5380-WJKOV|  34.0|        106.35|     3549.25|\n",
      "|4598-XLKNJ|  25.0|          98.5|      2514.5|\n",
      "|3192-NQECA|  68.0|         110.0|     7611.85|\n",
      "|0486-HECZI|  55.0|         96.75|      5238.9|\n",
      "|4846-WHAFZ|  37.0|          76.5|     2868.15|\n",
      "|3445-HXXGF|  58.0|          45.3|      2651.2|\n",
      "|0691-JVSYA|  53.0|         94.85|      5000.2|\n",
      "|4484-GLZOU|  52.0|        105.05|     5624.85|\n",
      "|0265-EDXBD|  32.0|          74.9|     2303.35|\n",
      "|2321-OMBXY|  38.0|          80.3|     3058.65|\n",
      "|5020-ZSTTY|  54.0|         82.45|      4350.1|\n",
      "|4322-RCYMT|  68.0|          75.8|     5293.95|\n",
      "|6680-NENYN|  43.0|         104.6|     4759.85|\n",
      "|1343-EHPYB|  63.0|         103.4|      6603.0|\n",
      "|9601-BRXPO|  25.0|        104.95|      2566.5|\n",
      "|0533-BNWKF|  55.0|         85.45|      4874.7|\n",
      "|6599-CEBNN|  34.0|         73.95|     2524.45|\n",
      "+----------+------+--------------+------------+\n",
      "only showing top 20 rows\n",
      "\n"
     ]
    }
   ],
   "source": [
    "\n",
    "spark.sql( \"\"\"SELECT\n",
    "customerID, tenure, monthlyCharges, totalCharges \n",
    "FROM j WHERE churn = 'Yes' AND totalCharges > (SELECT AVG(totalCharges) FROM j)\"\"\").show()"
   ]
  },
  {
   "cell_type": "code",
   "execution_count": 12,
   "id": "d33c7098-699b-4e28-81d6-4788268f7ae7",
   "metadata": {},
   "outputs": [
    {
     "name": "stdout",
     "output_type": "stream",
     "text": [
      "+---------------+------------+\n",
      "|internetService|senior_count|\n",
      "+---------------+------------+\n",
      "|    Fiber optic|        1662|\n",
      "|            DSL|         518|\n",
      "|             No|         104|\n",
      "+---------------+------------+\n",
      "\n"
     ]
    }
   ],
   "source": [
    "spark.sql(\"\"\"\n",
    "SELECT internetService, COUNT(*) AS senior_count \n",
    "FROM j \n",
    "WHERE seniorCitizen = 1 \n",
    "GROUP BY internetService \n",
    "ORDER BY senior_count DESC\n",
    "\"\"\").show()"
   ]
  },
  {
   "cell_type": "code",
   "execution_count": 14,
   "id": "e0065e28-ef65-4309-bd84-4bf470c1f4c0",
   "metadata": {},
   "outputs": [
    {
     "name": "stdout",
     "output_type": "stream",
     "text": [
      "+--------------+-----------------+----------+\n",
      "|      contract|       avg_tenure|churn_rate|\n",
      "+--------------+-----------------+----------+\n",
      "|Month-to-month| 23.3213058419244|   0.32818|\n",
      "|      One year|42.21748878923767|   0.09417|\n",
      "|      Two year|55.40083217753121|   0.02219|\n",
      "+--------------+-----------------+----------+\n",
      "\n"
     ]
    }
   ],
   "source": [
    "spark.sql(\"\"\"\n",
    "SELECT contract, \n",
    "       AVG(tenure) AS avg_tenure,\n",
    "       AVG(CASE WHEN churn = 'Yes' THEN 1.0 ELSE 0 END) AS churn_rate\n",
    "FROM j \n",
    "WHERE dependents = 'Yes' AND partner = 'Yes'\n",
    "GROUP BY contract\n",
    "\"\"\").show()"
   ]
  },
  {
   "cell_type": "code",
   "execution_count": 16,
   "id": "ed667040-e3f5-4758-9af7-fc972636ea52",
   "metadata": {},
   "outputs": [
    {
     "name": "stdout",
     "output_type": "stream",
     "text": [
      "+--------------+------------+-----------+----------+------------------+\n",
      "|onlineSecurity|onlineBackup|techSupport|user_count|        avg_charge|\n",
      "+--------------+------------+-----------+----------+------------------+\n",
      "|           Yes|         Yes|         No|       460| 98.29195652173914|\n",
      "|            No|         Yes|        Yes|       506|101.19426877470356|\n",
      "|           Yes|         Yes|        Yes|       518|107.97200772200775|\n",
      "|           Yes|          No|        Yes|       230|100.68347826086955|\n",
      "|            No|          No|         No|      2328| 82.72933848797256|\n",
      "|            No|          No|        Yes|       478|  94.0271966527197|\n",
      "|            No|         Yes|         No|      1202| 92.62362728785355|\n",
      "|           Yes|          No|         No|       470| 89.76808510638303|\n",
      "+--------------+------------+-----------+----------+------------------+\n",
      "\n"
     ]
    }
   ],
   "source": [
    "spark.sql(\"\"\"\n",
    "SELECT onlineSecurity, onlineBackup, techSupport,\n",
    "       COUNT(*) AS user_count,\n",
    "       AVG(monthlyCharges) AS avg_charge\n",
    "FROM j \n",
    "WHERE internetService = 'Fiber optic'\n",
    "GROUP BY onlineSecurity, onlineBackup, techSupport\n",
    "\"\"\").show()"
   ]
  },
  {
   "cell_type": "code",
   "execution_count": null,
   "id": "5731c7b6-e5ce-4222-ab18-f683d7f97979",
   "metadata": {},
   "outputs": [],
   "source": [
    "接下来是两条deepseek生成错误的sql语句以及答案:"
   ]
  },
  {
   "cell_type": "markdown",
   "id": "c3d7bd92-175c-4cbd-9f46-e2bd9fe118cd",
   "metadata": {},
   "source": [
    "第一条的提示词：\n",
    "|-- customerID: string (nullable = true)\n",
    " |-- gender: string (nullable = true)\n",
    " |-- seniorCitizen: double (nullable = true)\n",
    " |-- partner: string (nullable = true)\n",
    " |-- dependents: string (nullable = true)\n",
    " |-- tenure: double (nullable = true)\n",
    " |-- phoneService: string (nullable = true)\n",
    " |-- multipleLines: string (nullable = true)\n",
    " |-- internetService: string (nullable = true)\n",
    " |-- onlineSecurity: string (nullable = true)\n",
    " |-- onlineBackup: string (nullable = true)\n",
    " |-- deviceProtection: string (nullable = true)\n",
    " |-- techSupport: string (nullable = true)\n",
    " |-- streamingTV: string (nullable = true)\n",
    " |-- streamingMovies: string (nullable = true)\n",
    " |-- contract: string (nullable = true)\n",
    " |-- paperlessBilling: string (nullable = true)\n",
    " |-- paymentMethod: string (nullable = true)\n",
    " |-- monthlyCharges: double (nullable = true)\n",
    " |-- totalCharges: double (nullable = true)\n",
    " |-- churn: string (nullable = true)根据这个表，表名为j,根据性别分组查询留存率"
   ]
  },
  {
   "cell_type": "code",
   "execution_count": 18,
   "id": "988a7f25-6c1f-4825-a917-7fbc10e76b77",
   "metadata": {},
   "outputs": [
    {
     "ename": "ParseException",
     "evalue": "\n[PARSE_SYNTAX_ERROR] Syntax error at or near '性'.(line 3, pos 14)\n\n== SQL ==\n\nSELECT \n    gender AS 性别,\n--------------^^^\n    COUNT(*) AS 总用户数,\n    SUM(CASE WHEN churn = 'No' THEN 1 ELSE 0 END) AS 留存用户数,\n    ROUND(\n        AVG(CASE WHEN churn = 'No' THEN 1 ELSE 0 END) * 100, \n        2\n    ) AS 留存率百分比\nFROM j\nGROUP BY gender;\n",
     "output_type": "error",
     "traceback": [
      "\u001b[0;31m---------------------------------------------------------------------------\u001b[0m",
      "\u001b[0;31mParseException\u001b[0m                            Traceback (most recent call last)",
      "Cell \u001b[0;32mIn[18], line 1\u001b[0m\n\u001b[0;32m----> 1\u001b[0m \u001b[43mspark\u001b[49m\u001b[38;5;241;43m.\u001b[39;49m\u001b[43msql\u001b[49m\u001b[43m(\u001b[49m\u001b[38;5;124;43m\"\"\"\u001b[39;49m\n\u001b[1;32m      2\u001b[0m \u001b[38;5;124;43mSELECT \u001b[39;49m\n\u001b[1;32m      3\u001b[0m \u001b[38;5;124;43m    gender AS 性别,\u001b[39;49m\n\u001b[1;32m      4\u001b[0m \u001b[38;5;124;43m    COUNT(*) AS 总用户数,\u001b[39;49m\n\u001b[1;32m      5\u001b[0m \u001b[38;5;124;43m    SUM(CASE WHEN churn = \u001b[39;49m\u001b[38;5;124;43m'\u001b[39;49m\u001b[38;5;124;43mNo\u001b[39;49m\u001b[38;5;124;43m'\u001b[39;49m\u001b[38;5;124;43m THEN 1 ELSE 0 END) AS 留存用户数,\u001b[39;49m\n\u001b[1;32m      6\u001b[0m \u001b[38;5;124;43m    ROUND(\u001b[39;49m\n\u001b[1;32m      7\u001b[0m \u001b[38;5;124;43m        AVG(CASE WHEN churn = \u001b[39;49m\u001b[38;5;124;43m'\u001b[39;49m\u001b[38;5;124;43mNo\u001b[39;49m\u001b[38;5;124;43m'\u001b[39;49m\u001b[38;5;124;43m THEN 1 ELSE 0 END) * 100, \u001b[39;49m\n\u001b[1;32m      8\u001b[0m \u001b[38;5;124;43m        2\u001b[39;49m\n\u001b[1;32m      9\u001b[0m \u001b[38;5;124;43m    ) AS 留存率百分比\u001b[39;49m\n\u001b[1;32m     10\u001b[0m \u001b[38;5;124;43mFROM j\u001b[39;49m\n\u001b[1;32m     11\u001b[0m \u001b[38;5;124;43mGROUP BY gender;\u001b[39;49m\n\u001b[1;32m     12\u001b[0m \u001b[38;5;124;43m\"\"\"\u001b[39;49m\u001b[43m)\u001b[49m\u001b[38;5;241m.\u001b[39mshow()\n",
      "File \u001b[0;32m/usr/local/lib/python3.10/dist-packages/pyspark/sql/session.py:1631\u001b[0m, in \u001b[0;36mSparkSession.sql\u001b[0;34m(self, sqlQuery, args, **kwargs)\u001b[0m\n\u001b[1;32m   1627\u001b[0m         \u001b[38;5;28;01massert\u001b[39;00m \u001b[38;5;28mself\u001b[39m\u001b[38;5;241m.\u001b[39m_jvm \u001b[38;5;129;01mis\u001b[39;00m \u001b[38;5;129;01mnot\u001b[39;00m \u001b[38;5;28;01mNone\u001b[39;00m\n\u001b[1;32m   1628\u001b[0m         litArgs \u001b[38;5;241m=\u001b[39m \u001b[38;5;28mself\u001b[39m\u001b[38;5;241m.\u001b[39m_jvm\u001b[38;5;241m.\u001b[39mPythonUtils\u001b[38;5;241m.\u001b[39mtoArray(\n\u001b[1;32m   1629\u001b[0m             [_to_java_column(lit(v)) \u001b[38;5;28;01mfor\u001b[39;00m v \u001b[38;5;129;01min\u001b[39;00m (args \u001b[38;5;129;01mor\u001b[39;00m [])]\n\u001b[1;32m   1630\u001b[0m         )\n\u001b[0;32m-> 1631\u001b[0m     \u001b[38;5;28;01mreturn\u001b[39;00m DataFrame(\u001b[38;5;28;43mself\u001b[39;49m\u001b[38;5;241;43m.\u001b[39;49m\u001b[43m_jsparkSession\u001b[49m\u001b[38;5;241;43m.\u001b[39;49m\u001b[43msql\u001b[49m\u001b[43m(\u001b[49m\u001b[43msqlQuery\u001b[49m\u001b[43m,\u001b[49m\u001b[43m \u001b[49m\u001b[43mlitArgs\u001b[49m\u001b[43m)\u001b[49m, \u001b[38;5;28mself\u001b[39m)\n\u001b[1;32m   1632\u001b[0m \u001b[38;5;28;01mfinally\u001b[39;00m:\n\u001b[1;32m   1633\u001b[0m     \u001b[38;5;28;01mif\u001b[39;00m \u001b[38;5;28mlen\u001b[39m(kwargs) \u001b[38;5;241m>\u001b[39m \u001b[38;5;241m0\u001b[39m:\n",
      "File \u001b[0;32m/usr/local/lib/python3.10/dist-packages/py4j/java_gateway.py:1322\u001b[0m, in \u001b[0;36mJavaMember.__call__\u001b[0;34m(self, *args)\u001b[0m\n\u001b[1;32m   1316\u001b[0m command \u001b[38;5;241m=\u001b[39m proto\u001b[38;5;241m.\u001b[39mCALL_COMMAND_NAME \u001b[38;5;241m+\u001b[39m\\\n\u001b[1;32m   1317\u001b[0m     \u001b[38;5;28mself\u001b[39m\u001b[38;5;241m.\u001b[39mcommand_header \u001b[38;5;241m+\u001b[39m\\\n\u001b[1;32m   1318\u001b[0m     args_command \u001b[38;5;241m+\u001b[39m\\\n\u001b[1;32m   1319\u001b[0m     proto\u001b[38;5;241m.\u001b[39mEND_COMMAND_PART\n\u001b[1;32m   1321\u001b[0m answer \u001b[38;5;241m=\u001b[39m \u001b[38;5;28mself\u001b[39m\u001b[38;5;241m.\u001b[39mgateway_client\u001b[38;5;241m.\u001b[39msend_command(command)\n\u001b[0;32m-> 1322\u001b[0m return_value \u001b[38;5;241m=\u001b[39m \u001b[43mget_return_value\u001b[49m\u001b[43m(\u001b[49m\n\u001b[1;32m   1323\u001b[0m \u001b[43m    \u001b[49m\u001b[43manswer\u001b[49m\u001b[43m,\u001b[49m\u001b[43m \u001b[49m\u001b[38;5;28;43mself\u001b[39;49m\u001b[38;5;241;43m.\u001b[39;49m\u001b[43mgateway_client\u001b[49m\u001b[43m,\u001b[49m\u001b[43m \u001b[49m\u001b[38;5;28;43mself\u001b[39;49m\u001b[38;5;241;43m.\u001b[39;49m\u001b[43mtarget_id\u001b[49m\u001b[43m,\u001b[49m\u001b[43m \u001b[49m\u001b[38;5;28;43mself\u001b[39;49m\u001b[38;5;241;43m.\u001b[39;49m\u001b[43mname\u001b[49m\u001b[43m)\u001b[49m\n\u001b[1;32m   1325\u001b[0m \u001b[38;5;28;01mfor\u001b[39;00m temp_arg \u001b[38;5;129;01min\u001b[39;00m temp_args:\n\u001b[1;32m   1326\u001b[0m     \u001b[38;5;28;01mif\u001b[39;00m \u001b[38;5;28mhasattr\u001b[39m(temp_arg, \u001b[38;5;124m\"\u001b[39m\u001b[38;5;124m_detach\u001b[39m\u001b[38;5;124m\"\u001b[39m):\n",
      "File \u001b[0;32m/usr/local/lib/python3.10/dist-packages/pyspark/errors/exceptions/captured.py:185\u001b[0m, in \u001b[0;36mcapture_sql_exception.<locals>.deco\u001b[0;34m(*a, **kw)\u001b[0m\n\u001b[1;32m    181\u001b[0m converted \u001b[38;5;241m=\u001b[39m convert_exception(e\u001b[38;5;241m.\u001b[39mjava_exception)\n\u001b[1;32m    182\u001b[0m \u001b[38;5;28;01mif\u001b[39;00m \u001b[38;5;129;01mnot\u001b[39;00m \u001b[38;5;28misinstance\u001b[39m(converted, UnknownException):\n\u001b[1;32m    183\u001b[0m     \u001b[38;5;66;03m# Hide where the exception came from that shows a non-Pythonic\u001b[39;00m\n\u001b[1;32m    184\u001b[0m     \u001b[38;5;66;03m# JVM exception message.\u001b[39;00m\n\u001b[0;32m--> 185\u001b[0m     \u001b[38;5;28;01mraise\u001b[39;00m converted \u001b[38;5;28;01mfrom\u001b[39;00m\u001b[38;5;250m \u001b[39m\u001b[38;5;28;01mNone\u001b[39;00m\n\u001b[1;32m    186\u001b[0m \u001b[38;5;28;01melse\u001b[39;00m:\n\u001b[1;32m    187\u001b[0m     \u001b[38;5;28;01mraise\u001b[39;00m\n",
      "\u001b[0;31mParseException\u001b[0m: \n[PARSE_SYNTAX_ERROR] Syntax error at or near '性'.(line 3, pos 14)\n\n== SQL ==\n\nSELECT \n    gender AS 性别,\n--------------^^^\n    COUNT(*) AS 总用户数,\n    SUM(CASE WHEN churn = 'No' THEN 1 ELSE 0 END) AS 留存用户数,\n    ROUND(\n        AVG(CASE WHEN churn = 'No' THEN 1 ELSE 0 END) * 100, \n        2\n    ) AS 留存率百分比\nFROM j\nGROUP BY gender;\n"
     ]
    }
   ],
   "source": [
    "#错误的\n",
    "spark.sql(\"\"\"\n",
    "SELECT \n",
    "    gender AS 性别,\n",
    "    COUNT(*) AS 总用户数,\n",
    "    SUM(CASE WHEN churn = 'No' THEN 1 ELSE 0 END) AS 留存用户数,\n",
    "    ROUND(\n",
    "        AVG(CASE WHEN churn = 'No' THEN 1 ELSE 0 END) * 100, \n",
    "        2\n",
    "    ) AS 留存率百分比\n",
    "FROM j\n",
    "GROUP BY gender;\n",
    "\"\"\").show()"
   ]
  },
  {
   "cell_type": "code",
   "execution_count": 22,
   "id": "809eae09-0d03-4c5e-b848-fdebcb307a3a",
   "metadata": {},
   "outputs": [
    {
     "name": "stdout",
     "output_type": "stream",
     "text": [
      "+------+--------+----------+------------+\n",
      "|  性别|总用户数|留存用户数|留存率百分比|\n",
      "+------+--------+----------+------------+\n",
      "|Female|    6976|      5098|      73.08%|\n",
      "|  Male|    7110|      5250|      73.84%|\n",
      "+------+--------+----------+------------+\n",
      "\n"
     ]
    }
   ],
   "source": [
    "#正确的\n",
    "spark.sql(\"\"\"\n",
    "SELECT \n",
    "    gender AS `性别`,\n",
    "    COUNT(*) AS `总用户数`,\n",
    "    SUM(CASE WHEN LOWER(TRIM(churn)) = 'no' THEN 1 ELSE 0 END) AS `留存用户数`,\n",
    "    CONCAT(  -- 使用 CONCAT 拼接百分比符号\n",
    "        ROUND(\n",
    "            (SUM(CASE WHEN LOWER(TRIM(churn)) = 'no' THEN 1 ELSE 0 END) * 100.0) / COUNT(*), \n",
    "            2\n",
    "        ),\n",
    "        '%'\n",
    "    ) AS `留存率百分比`  -- 列名保持不变，值末尾添加 %\n",
    "FROM j\n",
    "WHERE gender IS NOT NULL\n",
    "GROUP BY gender\n",
    "\"\"\").show()"
   ]
  },
  {
   "cell_type": "markdown",
   "id": "91ac3203-9cfe-4088-b982-56d2f8e9876e",
   "metadata": {},
   "source": [
    "原因：\n",
    "AI的语言模型基于训练数据中的常见模式生成代码，在大量中文技术文档和中文注释的代码示例影响下，容易混淆自然语言描述和实际代码规范。这种\"语言混用幻觉\"本质上是统计模型在代码生成场景下的典型局限，无法真正理解不同数据库系统对标识符的具体处理规则。"
   ]
  },
  {
   "cell_type": "code",
   "execution_count": 37,
   "id": "6fa43579-548f-4d34-956c-0eac1b6d5434",
   "metadata": {},
   "outputs": [
    {
     "ename": "ParseException",
     "evalue": "\n[PARSE_SYNTAX_ERROR] Syntax error at or near 'fib_sequence'.(line 3, pos 15)\n\n== SQL ==\n\n-- 步骤1: 动态生成斐波那契数列（前20项）\nWITH RECURSIVE fib_sequence AS (\n---------------^^^\n  SELECT \n    0 AS n, \n    1 AS fib_prev, \n    1 AS fib_current  -- 初始化斐波那契数列前两项\n  UNION ALL\n  SELECT \n    n + 1,\n    fib_current, \n    fib_prev + fib_current\n  FROM fib_sequence\n  WHERE n < 19  -- 生成前20项（覆盖tenure最大值）\n),\nfib_numbers AS (\n  SELECT DISTINCT fib_prev AS fib FROM fib_sequence\n  UNION \n  SELECT 1  -- 补充初始值1\n),\n\n-- 步骤2: 创建动态分箱区间（左闭右开）\nfib_bins AS (\n  SELECT \n    fib AS lower,\n    COALESCE(\n      LEAD(fib) OVER (ORDER BY fib), \n      999999  -- 最后一个分箱上限设为极大值\n    ) AS upper\n  FROM fib_numbers\n  WHERE fib > 0\n),\n\n-- 步骤3: 用户分箱及留存率计算\nuser_bins AS (\n  SELECT \n    j.*,\n    CONCAT(fb.lower, '-', fb.upper) AS tenure_bin\n  FROM j\n  INNER JOIN fib_bins fb \n    ON j.tenure >= fb.lower \n    AND j.tenure < fb.upper\n)\n\n-- 最终结果：分箱留存率统计\nSELECT \n  tenure_bin,\n  COUNT(*) AS total_users,\n  SUM(CASE WHEN churn = 'No' THEN 1 ELSE 0 END) AS retained_users,\n  ROUND(\n    SUM(CASE WHEN churn = 'No' THEN 1 ELSE 0 END) / COUNT(*), \n    2\n  ) AS retention_rate\nFROM user_bins\nGROUP BY tenure_bin\nORDER BY MIN(fb.lower);\n",
     "output_type": "error",
     "traceback": [
      "\u001b[0;31m---------------------------------------------------------------------------\u001b[0m",
      "\u001b[0;31mParseException\u001b[0m                            Traceback (most recent call last)",
      "Cell \u001b[0;32mIn[37], line 1\u001b[0m\n\u001b[0;32m----> 1\u001b[0m \u001b[43mspark\u001b[49m\u001b[38;5;241;43m.\u001b[39;49m\u001b[43msql\u001b[49m\u001b[43m(\u001b[49m\u001b[38;5;124;43m\"\"\"\u001b[39;49m\n\u001b[1;32m      2\u001b[0m \u001b[38;5;124;43m-- 步骤1: 动态生成斐波那契数列（前20项）\u001b[39;49m\n\u001b[1;32m      3\u001b[0m \u001b[38;5;124;43mWITH RECURSIVE fib_sequence AS (\u001b[39;49m\n\u001b[1;32m      4\u001b[0m \u001b[38;5;124;43m  SELECT \u001b[39;49m\n\u001b[1;32m      5\u001b[0m \u001b[38;5;124;43m    0 AS n, \u001b[39;49m\n\u001b[1;32m      6\u001b[0m \u001b[38;5;124;43m    1 AS fib_prev, \u001b[39;49m\n\u001b[1;32m      7\u001b[0m \u001b[38;5;124;43m    1 AS fib_current  -- 初始化斐波那契数列前两项\u001b[39;49m\n\u001b[1;32m      8\u001b[0m \u001b[38;5;124;43m  UNION ALL\u001b[39;49m\n\u001b[1;32m      9\u001b[0m \u001b[38;5;124;43m  SELECT \u001b[39;49m\n\u001b[1;32m     10\u001b[0m \u001b[38;5;124;43m    n + 1,\u001b[39;49m\n\u001b[1;32m     11\u001b[0m \u001b[38;5;124;43m    fib_current, \u001b[39;49m\n\u001b[1;32m     12\u001b[0m \u001b[38;5;124;43m    fib_prev + fib_current\u001b[39;49m\n\u001b[1;32m     13\u001b[0m \u001b[38;5;124;43m  FROM fib_sequence\u001b[39;49m\n\u001b[1;32m     14\u001b[0m \u001b[38;5;124;43m  WHERE n < 19  -- 生成前20项（覆盖tenure最大值）\u001b[39;49m\n\u001b[1;32m     15\u001b[0m \u001b[38;5;124;43m),\u001b[39;49m\n\u001b[1;32m     16\u001b[0m \u001b[38;5;124;43mfib_numbers AS (\u001b[39;49m\n\u001b[1;32m     17\u001b[0m \u001b[38;5;124;43m  SELECT DISTINCT fib_prev AS fib FROM fib_sequence\u001b[39;49m\n\u001b[1;32m     18\u001b[0m \u001b[38;5;124;43m  UNION \u001b[39;49m\n\u001b[1;32m     19\u001b[0m \u001b[38;5;124;43m  SELECT 1  -- 补充初始值1\u001b[39;49m\n\u001b[1;32m     20\u001b[0m \u001b[38;5;124;43m),\u001b[39;49m\n\u001b[1;32m     21\u001b[0m \n\u001b[1;32m     22\u001b[0m \u001b[38;5;124;43m-- 步骤2: 创建动态分箱区间（左闭右开）\u001b[39;49m\n\u001b[1;32m     23\u001b[0m \u001b[38;5;124;43mfib_bins AS (\u001b[39;49m\n\u001b[1;32m     24\u001b[0m \u001b[38;5;124;43m  SELECT \u001b[39;49m\n\u001b[1;32m     25\u001b[0m \u001b[38;5;124;43m    fib AS lower,\u001b[39;49m\n\u001b[1;32m     26\u001b[0m \u001b[38;5;124;43m    COALESCE(\u001b[39;49m\n\u001b[1;32m     27\u001b[0m \u001b[38;5;124;43m      LEAD(fib) OVER (ORDER BY fib), \u001b[39;49m\n\u001b[1;32m     28\u001b[0m \u001b[38;5;124;43m      999999  -- 最后一个分箱上限设为极大值\u001b[39;49m\n\u001b[1;32m     29\u001b[0m \u001b[38;5;124;43m    ) AS upper\u001b[39;49m\n\u001b[1;32m     30\u001b[0m \u001b[38;5;124;43m  FROM fib_numbers\u001b[39;49m\n\u001b[1;32m     31\u001b[0m \u001b[38;5;124;43m  WHERE fib > 0\u001b[39;49m\n\u001b[1;32m     32\u001b[0m \u001b[38;5;124;43m),\u001b[39;49m\n\u001b[1;32m     33\u001b[0m \n\u001b[1;32m     34\u001b[0m \u001b[38;5;124;43m-- 步骤3: 用户分箱及留存率计算\u001b[39;49m\n\u001b[1;32m     35\u001b[0m \u001b[38;5;124;43muser_bins AS (\u001b[39;49m\n\u001b[1;32m     36\u001b[0m \u001b[38;5;124;43m  SELECT \u001b[39;49m\n\u001b[1;32m     37\u001b[0m \u001b[38;5;124;43m    j.*,\u001b[39;49m\n\u001b[1;32m     38\u001b[0m \u001b[38;5;124;43m    CONCAT(fb.lower, \u001b[39;49m\u001b[38;5;124;43m'\u001b[39;49m\u001b[38;5;124;43m-\u001b[39;49m\u001b[38;5;124;43m'\u001b[39;49m\u001b[38;5;124;43m, fb.upper) AS tenure_bin\u001b[39;49m\n\u001b[1;32m     39\u001b[0m \u001b[38;5;124;43m  FROM j\u001b[39;49m\n\u001b[1;32m     40\u001b[0m \u001b[38;5;124;43m  INNER JOIN fib_bins fb \u001b[39;49m\n\u001b[1;32m     41\u001b[0m \u001b[38;5;124;43m    ON j.tenure >= fb.lower \u001b[39;49m\n\u001b[1;32m     42\u001b[0m \u001b[38;5;124;43m    AND j.tenure < fb.upper\u001b[39;49m\n\u001b[1;32m     43\u001b[0m \u001b[38;5;124;43m)\u001b[39;49m\n\u001b[1;32m     44\u001b[0m \n\u001b[1;32m     45\u001b[0m \u001b[38;5;124;43m-- 最终结果：分箱留存率统计\u001b[39;49m\n\u001b[1;32m     46\u001b[0m \u001b[38;5;124;43mSELECT \u001b[39;49m\n\u001b[1;32m     47\u001b[0m \u001b[38;5;124;43m  tenure_bin,\u001b[39;49m\n\u001b[1;32m     48\u001b[0m \u001b[38;5;124;43m  COUNT(*) AS total_users,\u001b[39;49m\n\u001b[1;32m     49\u001b[0m \u001b[38;5;124;43m  SUM(CASE WHEN churn = \u001b[39;49m\u001b[38;5;124;43m'\u001b[39;49m\u001b[38;5;124;43mNo\u001b[39;49m\u001b[38;5;124;43m'\u001b[39;49m\u001b[38;5;124;43m THEN 1 ELSE 0 END) AS retained_users,\u001b[39;49m\n\u001b[1;32m     50\u001b[0m \u001b[38;5;124;43m  ROUND(\u001b[39;49m\n\u001b[1;32m     51\u001b[0m \u001b[38;5;124;43m    SUM(CASE WHEN churn = \u001b[39;49m\u001b[38;5;124;43m'\u001b[39;49m\u001b[38;5;124;43mNo\u001b[39;49m\u001b[38;5;124;43m'\u001b[39;49m\u001b[38;5;124;43m THEN 1 ELSE 0 END) / COUNT(*), \u001b[39;49m\n\u001b[1;32m     52\u001b[0m \u001b[38;5;124;43m    2\u001b[39;49m\n\u001b[1;32m     53\u001b[0m \u001b[38;5;124;43m  ) AS retention_rate\u001b[39;49m\n\u001b[1;32m     54\u001b[0m \u001b[38;5;124;43mFROM user_bins\u001b[39;49m\n\u001b[1;32m     55\u001b[0m \u001b[38;5;124;43mGROUP BY tenure_bin\u001b[39;49m\n\u001b[1;32m     56\u001b[0m \u001b[38;5;124;43mORDER BY MIN(fb.lower);\u001b[39;49m\n\u001b[1;32m     57\u001b[0m \u001b[38;5;124;43m\"\"\"\u001b[39;49m\u001b[43m)\u001b[49m\u001b[38;5;241m.\u001b[39mshow()\n",
      "File \u001b[0;32m/usr/local/lib/python3.10/dist-packages/pyspark/sql/session.py:1631\u001b[0m, in \u001b[0;36mSparkSession.sql\u001b[0;34m(self, sqlQuery, args, **kwargs)\u001b[0m\n\u001b[1;32m   1627\u001b[0m         \u001b[38;5;28;01massert\u001b[39;00m \u001b[38;5;28mself\u001b[39m\u001b[38;5;241m.\u001b[39m_jvm \u001b[38;5;129;01mis\u001b[39;00m \u001b[38;5;129;01mnot\u001b[39;00m \u001b[38;5;28;01mNone\u001b[39;00m\n\u001b[1;32m   1628\u001b[0m         litArgs \u001b[38;5;241m=\u001b[39m \u001b[38;5;28mself\u001b[39m\u001b[38;5;241m.\u001b[39m_jvm\u001b[38;5;241m.\u001b[39mPythonUtils\u001b[38;5;241m.\u001b[39mtoArray(\n\u001b[1;32m   1629\u001b[0m             [_to_java_column(lit(v)) \u001b[38;5;28;01mfor\u001b[39;00m v \u001b[38;5;129;01min\u001b[39;00m (args \u001b[38;5;129;01mor\u001b[39;00m [])]\n\u001b[1;32m   1630\u001b[0m         )\n\u001b[0;32m-> 1631\u001b[0m     \u001b[38;5;28;01mreturn\u001b[39;00m DataFrame(\u001b[38;5;28;43mself\u001b[39;49m\u001b[38;5;241;43m.\u001b[39;49m\u001b[43m_jsparkSession\u001b[49m\u001b[38;5;241;43m.\u001b[39;49m\u001b[43msql\u001b[49m\u001b[43m(\u001b[49m\u001b[43msqlQuery\u001b[49m\u001b[43m,\u001b[49m\u001b[43m \u001b[49m\u001b[43mlitArgs\u001b[49m\u001b[43m)\u001b[49m, \u001b[38;5;28mself\u001b[39m)\n\u001b[1;32m   1632\u001b[0m \u001b[38;5;28;01mfinally\u001b[39;00m:\n\u001b[1;32m   1633\u001b[0m     \u001b[38;5;28;01mif\u001b[39;00m \u001b[38;5;28mlen\u001b[39m(kwargs) \u001b[38;5;241m>\u001b[39m \u001b[38;5;241m0\u001b[39m:\n",
      "File \u001b[0;32m/usr/local/lib/python3.10/dist-packages/py4j/java_gateway.py:1322\u001b[0m, in \u001b[0;36mJavaMember.__call__\u001b[0;34m(self, *args)\u001b[0m\n\u001b[1;32m   1316\u001b[0m command \u001b[38;5;241m=\u001b[39m proto\u001b[38;5;241m.\u001b[39mCALL_COMMAND_NAME \u001b[38;5;241m+\u001b[39m\\\n\u001b[1;32m   1317\u001b[0m     \u001b[38;5;28mself\u001b[39m\u001b[38;5;241m.\u001b[39mcommand_header \u001b[38;5;241m+\u001b[39m\\\n\u001b[1;32m   1318\u001b[0m     args_command \u001b[38;5;241m+\u001b[39m\\\n\u001b[1;32m   1319\u001b[0m     proto\u001b[38;5;241m.\u001b[39mEND_COMMAND_PART\n\u001b[1;32m   1321\u001b[0m answer \u001b[38;5;241m=\u001b[39m \u001b[38;5;28mself\u001b[39m\u001b[38;5;241m.\u001b[39mgateway_client\u001b[38;5;241m.\u001b[39msend_command(command)\n\u001b[0;32m-> 1322\u001b[0m return_value \u001b[38;5;241m=\u001b[39m \u001b[43mget_return_value\u001b[49m\u001b[43m(\u001b[49m\n\u001b[1;32m   1323\u001b[0m \u001b[43m    \u001b[49m\u001b[43manswer\u001b[49m\u001b[43m,\u001b[49m\u001b[43m \u001b[49m\u001b[38;5;28;43mself\u001b[39;49m\u001b[38;5;241;43m.\u001b[39;49m\u001b[43mgateway_client\u001b[49m\u001b[43m,\u001b[49m\u001b[43m \u001b[49m\u001b[38;5;28;43mself\u001b[39;49m\u001b[38;5;241;43m.\u001b[39;49m\u001b[43mtarget_id\u001b[49m\u001b[43m,\u001b[49m\u001b[43m \u001b[49m\u001b[38;5;28;43mself\u001b[39;49m\u001b[38;5;241;43m.\u001b[39;49m\u001b[43mname\u001b[49m\u001b[43m)\u001b[49m\n\u001b[1;32m   1325\u001b[0m \u001b[38;5;28;01mfor\u001b[39;00m temp_arg \u001b[38;5;129;01min\u001b[39;00m temp_args:\n\u001b[1;32m   1326\u001b[0m     \u001b[38;5;28;01mif\u001b[39;00m \u001b[38;5;28mhasattr\u001b[39m(temp_arg, \u001b[38;5;124m\"\u001b[39m\u001b[38;5;124m_detach\u001b[39m\u001b[38;5;124m\"\u001b[39m):\n",
      "File \u001b[0;32m/usr/local/lib/python3.10/dist-packages/pyspark/errors/exceptions/captured.py:185\u001b[0m, in \u001b[0;36mcapture_sql_exception.<locals>.deco\u001b[0;34m(*a, **kw)\u001b[0m\n\u001b[1;32m    181\u001b[0m converted \u001b[38;5;241m=\u001b[39m convert_exception(e\u001b[38;5;241m.\u001b[39mjava_exception)\n\u001b[1;32m    182\u001b[0m \u001b[38;5;28;01mif\u001b[39;00m \u001b[38;5;129;01mnot\u001b[39;00m \u001b[38;5;28misinstance\u001b[39m(converted, UnknownException):\n\u001b[1;32m    183\u001b[0m     \u001b[38;5;66;03m# Hide where the exception came from that shows a non-Pythonic\u001b[39;00m\n\u001b[1;32m    184\u001b[0m     \u001b[38;5;66;03m# JVM exception message.\u001b[39;00m\n\u001b[0;32m--> 185\u001b[0m     \u001b[38;5;28;01mraise\u001b[39;00m converted \u001b[38;5;28;01mfrom\u001b[39;00m\u001b[38;5;250m \u001b[39m\u001b[38;5;28;01mNone\u001b[39;00m\n\u001b[1;32m    186\u001b[0m \u001b[38;5;28;01melse\u001b[39;00m:\n\u001b[1;32m    187\u001b[0m     \u001b[38;5;28;01mraise\u001b[39;00m\n",
      "\u001b[0;31mParseException\u001b[0m: \n[PARSE_SYNTAX_ERROR] Syntax error at or near 'fib_sequence'.(line 3, pos 15)\n\n== SQL ==\n\n-- 步骤1: 动态生成斐波那契数列（前20项）\nWITH RECURSIVE fib_sequence AS (\n---------------^^^\n  SELECT \n    0 AS n, \n    1 AS fib_prev, \n    1 AS fib_current  -- 初始化斐波那契数列前两项\n  UNION ALL\n  SELECT \n    n + 1,\n    fib_current, \n    fib_prev + fib_current\n  FROM fib_sequence\n  WHERE n < 19  -- 生成前20项（覆盖tenure最大值）\n),\nfib_numbers AS (\n  SELECT DISTINCT fib_prev AS fib FROM fib_sequence\n  UNION \n  SELECT 1  -- 补充初始值1\n),\n\n-- 步骤2: 创建动态分箱区间（左闭右开）\nfib_bins AS (\n  SELECT \n    fib AS lower,\n    COALESCE(\n      LEAD(fib) OVER (ORDER BY fib), \n      999999  -- 最后一个分箱上限设为极大值\n    ) AS upper\n  FROM fib_numbers\n  WHERE fib > 0\n),\n\n-- 步骤3: 用户分箱及留存率计算\nuser_bins AS (\n  SELECT \n    j.*,\n    CONCAT(fb.lower, '-', fb.upper) AS tenure_bin\n  FROM j\n  INNER JOIN fib_bins fb \n    ON j.tenure >= fb.lower \n    AND j.tenure < fb.upper\n)\n\n-- 最终结果：分箱留存率统计\nSELECT \n  tenure_bin,\n  COUNT(*) AS total_users,\n  SUM(CASE WHEN churn = 'No' THEN 1 ELSE 0 END) AS retained_users,\n  ROUND(\n    SUM(CASE WHEN churn = 'No' THEN 1 ELSE 0 END) / COUNT(*), \n    2\n  ) AS retention_rate\nFROM user_bins\nGROUP BY tenure_bin\nORDER BY MIN(fb.lower);\n"
     ]
    }
   ],
   "source": [
    "#错误的\n",
    "spark.sql(\"\"\"\n",
    "-- 步骤1: 动态生成斐波那契数列（前20项）\n",
    "WITH RECURSIVE fib_sequence AS (\n",
    "  SELECT \n",
    "    0 AS n, \n",
    "    1 AS fib_prev, \n",
    "    1 AS fib_current  -- 初始化斐波那契数列前两项\n",
    "  UNION ALL\n",
    "  SELECT \n",
    "    n + 1,\n",
    "    fib_current, \n",
    "    fib_prev + fib_current\n",
    "  FROM fib_sequence\n",
    "  WHERE n < 19  -- 生成前20项（覆盖tenure最大值）\n",
    "),\n",
    "fib_numbers AS (\n",
    "  SELECT DISTINCT fib_prev AS fib FROM fib_sequence\n",
    "  UNION \n",
    "  SELECT 1  -- 补充初始值1\n",
    "),\n",
    "\n",
    "-- 步骤2: 创建动态分箱区间（左闭右开）\n",
    "fib_bins AS (\n",
    "  SELECT \n",
    "    fib AS lower,\n",
    "    COALESCE(\n",
    "      LEAD(fib) OVER (ORDER BY fib), \n",
    "      999999  -- 最后一个分箱上限设为极大值\n",
    "    ) AS upper\n",
    "  FROM fib_numbers\n",
    "  WHERE fib > 0\n",
    "),\n",
    "\n",
    "-- 步骤3: 用户分箱及留存率计算\n",
    "user_bins AS (\n",
    "  SELECT \n",
    "    j.*,\n",
    "    CONCAT(fb.lower, '-', fb.upper) AS tenure_bin\n",
    "  FROM j\n",
    "  INNER JOIN fib_bins fb \n",
    "    ON j.tenure >= fb.lower \n",
    "    AND j.tenure < fb.upper\n",
    ")\n",
    "\n",
    "-- 最终结果：分箱留存率统计\n",
    "SELECT \n",
    "  tenure_bin,\n",
    "  COUNT(*) AS total_users,\n",
    "  SUM(CASE WHEN churn = 'No' THEN 1 ELSE 0 END) AS retained_users,\n",
    "  ROUND(\n",
    "    SUM(CASE WHEN churn = 'No' THEN 1 ELSE 0 END) / COUNT(*), \n",
    "    2\n",
    "  ) AS retention_rate\n",
    "FROM user_bins\n",
    "GROUP BY tenure_bin\n",
    "ORDER BY MIN(fb.lower);\n",
    "\"\"\").show()"
   ]
  },
  {
   "cell_type": "markdown",
   "id": "7005a290-cf64-40e8-ab9a-6e1338dcf6c1",
   "metadata": {},
   "source": [
    "这是第二条的提示词：\n",
    "|-- customerID: string (nullable = true)\n",
    " |-- gender: string (nullable = true)\n",
    " |-- seniorCitizen: double (nullable = true)\n",
    " |-- partner: string (nullable = true)\n",
    " |-- dependents: string (nullable = true)\n",
    " |-- tenure: double (nullable = true)\n",
    " |-- phoneService: string (nullable = true)\n",
    " |-- multipleLines: string (nullable = true)\n",
    " |-- internetService: string (nullable = true)\n",
    " |-- onlineSecurity: string (nullable = true)\n",
    " |-- onlineBackup: string (nullable = true)\n",
    " |-- deviceProtection: string (nullable = true)\n",
    " |-- techSupport: string (nullable = true)\n",
    " |-- streamingTV: string (nullable = true)\n",
    " |-- streamingMovies: string (nullable = true)\n",
    " |-- contract: string (nullable = true)\n",
    " |-- paperlessBilling: string (nullable = true)\n",
    " |-- paymentMethod: string (nullable = true)\n",
    " |-- monthlyCharges: double (nullable = true)\n",
    " |-- totalCharges: double (nullable = true)\n",
    " |-- churn: string (nullable = true)根据这个表，表名为j,将tenure按斐波那契数列分箱（1,2,3,5,8...），统计每个分箱的留存率，要求动态生成分箱标签"
   ]
  },
  {
   "cell_type": "code",
   "execution_count": 39,
   "id": "a55e7021-cebe-4427-9714-5e5856ab8f9b",
   "metadata": {},
   "outputs": [
    {
     "name": "stderr",
     "output_type": "stream",
     "text": [
      "25/04/07 12:23:40 WARN WindowExec: No Partition Defined for Window operation! Moving all data to a single partition, this can cause serious performance degradation.\n",
      "25/04/07 12:23:40 WARN WindowExec: No Partition Defined for Window operation! Moving all data to a single partition, this can cause serious performance degradation.\n",
      "25/04/07 12:23:40 WARN WindowExec: No Partition Defined for Window operation! Moving all data to a single partition, this can cause serious performance degradation.\n",
      "25/04/07 12:23:40 WARN WindowExec: No Partition Defined for Window operation! Moving all data to a single partition, this can cause serious performance degradation.\n",
      "25/04/07 12:23:40 WARN WindowExec: No Partition Defined for Window operation! Moving all data to a single partition, this can cause serious performance degradation.\n",
      "25/04/07 12:23:40 WARN WindowExec: No Partition Defined for Window operation! Moving all data to a single partition, this can cause serious performance degradation.\n",
      "25/04/07 12:23:40 WARN WindowExec: No Partition Defined for Window operation! Moving all data to a single partition, this can cause serious performance degradation.\n",
      "25/04/07 12:23:40 WARN WindowExec: No Partition Defined for Window operation! Moving all data to a single partition, this can cause serious performance degradation.\n"
     ]
    },
    {
     "name": "stdout",
     "output_type": "stream",
     "text": [
      "+----------+-----------+--------------+--------------+\n",
      "|tenure_bin|total_users|retained_users|retention_rate|\n",
      "+----------+-----------+--------------+--------------+\n",
      "|       1-2|       1226|           466|          0.38|\n",
      "|     13-21|       1384|           956|          0.69|\n",
      "|       2-3|        476|           230|          0.48|\n",
      "|     21-34|       1922|          1476|          0.77|\n",
      "|       3-5|        752|           398|          0.53|\n",
      "|     34-55|       2770|          2270|          0.82|\n",
      "|       5-8|        748|           438|          0.59|\n",
      "|     55-89|       3638|          3348|          0.92|\n",
      "|      8-13|       1148|           744|          0.65|\n",
      "+----------+-----------+--------------+--------------+\n",
      "\n"
     ]
    }
   ],
   "source": [
    "#正确的\n",
    "spark.sql(\"\"\"\n",
    "\n",
    "-- 步骤1: 使用数学公式生成斐波那契数列（前20项）\n",
    "WITH fib_numbers AS (\n",
    "  SELECT \n",
    "    CAST(\n",
    "      (POW((1 + SQRT(5)) / 2, n) - POW((1 - SQRT(5)) / 2, n)) / SQRT(5) \n",
    "      AS INT\n",
    "    ) AS fib\n",
    "  FROM (\n",
    "    SELECT explode(sequence(1, 20)) AS n  -- 生成20项足够覆盖常见tenure范围\n",
    "  )\n",
    "),\n",
    "fib_distinct AS (\n",
    "  SELECT DISTINCT fib \n",
    "  FROM fib_numbers \n",
    "  WHERE fib > 0\n",
    "  UNION SELECT 1  -- 补充缺失的初始值1\n",
    "),\n",
    "\n",
    "-- 步骤2: 创建分箱区间（左闭右开）\n",
    "fib_bins AS (\n",
    "  SELECT \n",
    "    fib AS lower,\n",
    "    COALESCE(\n",
    "      LEAD(fib) OVER (ORDER BY fib), \n",
    "      999999  -- 最后一个分箱上限设为极大值\n",
    "    ) AS upper\n",
    "  FROM fib_distinct\n",
    "),\n",
    "\n",
    "-- 步骤3: 用户分箱及留存率计算\n",
    "user_bins AS (\n",
    "  SELECT \n",
    "    j.*,\n",
    "    CONCAT(fb.lower, '-', fb.upper) AS tenure_bin\n",
    "  FROM j\n",
    "  INNER JOIN fib_bins fb \n",
    "    ON j.tenure >= fb.lower \n",
    "    AND j.tenure < fb.upper\n",
    "  WHERE j.tenure IS NOT NULL  -- 排除空值\n",
    ")\n",
    "\n",
    "-- 最终结果：分箱留存率统计\n",
    "SELECT \n",
    "  tenure_bin,\n",
    "  COUNT(*) AS total_users,\n",
    "  SUM(CASE WHEN churn = 'No' THEN 1 ELSE 0 END) AS retained_users,\n",
    "  ROUND(\n",
    "    SUM(CASE WHEN churn = 'No' THEN 1 ELSE 0 END) * 1.0 / COUNT(*), \n",
    "    2\n",
    "  ) AS retention_rate\n",
    "FROM user_bins\n",
    "GROUP BY tenure_bin\n",
    "ORDER BY tenure_bin;  -- 按分箱标签排序\n",
    "\"\"\").show()"
   ]
  },
  {
   "cell_type": "markdown",
   "id": "190ac1e4-e9c2-4c40-8c54-46f040769615",
   "metadata": {},
   "source": [
    "原因：面对复杂的sql语句,deepseek会出现知识混杂现象，比如在 Spark SQL 中，递归 CTE（WITH RECURSIVE）尚未被支持，导致语法解析错误。"
   ]
  },
  {
   "cell_type": "markdown",
   "id": "930f4f9a-e9b0-4329-a262-c16abd11f967",
   "metadata": {},
   "source": [
    "my assumptions that when the LLMs might fail in performing data analysis using SQL:\n",
    "1.提示词中表的结构没有明确给出，llm 会瞎编乱造列名\n",
    "2. AI可能混淆方言导致语法错误\n",
    "3. 保留字未转义，不同数据库的保留字等不一样\n",
    "4. AI的语言模型基于训练数据中的常见模式生成代码，在大量中文技术文档和中文注释的代码示例影响下，容易混淆自然语言描述和实际代码规范。\n",
    "5 .AI可能在生成JOIN时没有正确指定ON子句，导致笛卡尔积或语法错误。比如，忘记添加连接条件，或者错误地使用逗号分隔表而没有JOIN关键字。"
   ]
  }
 ],
 "metadata": {
  "kernelspec": {
   "display_name": "Python 3 (ipykernel)",
   "language": "python",
   "name": "python3"
  },
  "language_info": {
   "codemirror_mode": {
    "name": "ipython",
    "version": 3
   },
   "file_extension": ".py",
   "mimetype": "text/x-python",
   "name": "python",
   "nbconvert_exporter": "python",
   "pygments_lexer": "ipython3",
   "version": "3.10.12"
  }
 },
 "nbformat": 4,
 "nbformat_minor": 5
}
