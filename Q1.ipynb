{
 "cells": [
  {
   "cell_type": "code",
   "execution_count": 1,
   "id": "initial_id",
   "metadata": {
    "ExecuteTime": {
     "end_time": "2025-04-02T03:26:03.630757Z",
     "start_time": "2025-04-02T03:26:03.621231Z"
    }
   },
   "outputs": [
    {
     "name": "stdout",
     "output_type": "stream",
     "text": [
      "/data/lab/proj_Q1\n"
     ]
    }
   ],
   "source": [
    "import os \n",
    "os.chdir(\"/data/lab/proj_Q1\")\n",
    "print(os.getcwd())"
   ]
  },
  {
   "cell_type": "code",
   "execution_count": 1,
   "id": "8a7fdcbad31901f7",
   "metadata": {
    "ExecuteTime": {
     "end_time": "2025-04-02T03:26:04.995491Z",
     "start_time": "2025-04-02T03:26:04.992206Z"
    },
    "collapsed": false,
    "jupyter": {
     "outputs_hidden": false
    }
   },
   "outputs": [],
   "source": [
    "from pyspark.sql import SparkSession\n",
    "from pyspark.sql import functions as F\n",
    "from pyspark.sql.types import TimestampType\n"
   ]
  },
  {
   "cell_type": "code",
   "execution_count": 3,
   "id": "fb522a2f73f649a1",
   "metadata": {
    "ExecuteTime": {
     "end_time": "2025-04-02T03:26:06.658966Z",
     "start_time": "2025-04-02T03:26:06.652631Z"
    },
    "collapsed": false,
    "jupyter": {
     "outputs_hidden": false
    }
   },
   "outputs": [],
   "source": [
    "# 创建SparkSession\n",
    "spark = SparkSession.builder.config('spark.ui.port', 4055).appName(\"pyspark SQL basic example\") .config(\"spark.sql.debug.maxToStringFields\", \"1000\").getOrCreate()"
   ]
  },
  {
   "cell_type": "markdown",
   "id": "aa54a7c7-a140-4ee8-a4e6-0d881df9000f",
   "metadata": {},
   "source": [
    "(1) [2 points] Create two Spark dataframes ( df_http df_dns ) from the files\n",
    "http.log.gz dns.log.gz in folders 00 to 05 (six folders in total). Convert the ts\n",
    "column to Timestamp data type. Create two temp view named http_log and dns_log ."
   ]
  },
  {
   "cell_type": "code",
   "execution_count": 4,
   "id": "44a0bab7ee1112a6",
   "metadata": {
    "ExecuteTime": {
     "end_time": "2025-04-02T03:33:47.598423Z",
     "start_time": "2025-04-02T03:26:35.542685Z"
    },
    "collapsed": false,
    "jupyter": {
     "outputs_hidden": false
    }
   },
   "outputs": [
    {
     "name": "stderr",
     "output_type": "stream",
     "text": [
      "                                                                                "
     ]
    }
   ],
   "source": [
    "dns=spark.read.csv('dns_merged.csv',header=True)\n"
   ]
  },
  {
   "cell_type": "code",
   "execution_count": 5,
   "id": "88e4ec1c-076b-4c32-b254-e6a32a62dac4",
   "metadata": {},
   "outputs": [],
   "source": [
    "http=spark.read.csv('http_merged.csv',header=True)\n"
   ]
  },
  {
   "cell_type": "code",
   "execution_count": 6,
   "id": "47f23db3-9aea-40c2-90bb-78f25203b1f3",
   "metadata": {},
   "outputs": [],
   "source": [
    "from pyspark.sql.functions import col, from_unixtime\n",
    "http = http.withColumn(\"ts\", from_unixtime(col(\"ts\").cast(\"long\")).cast(\"timestamp\"))\n",
    "dns=dns.withColumn(\"ts\",from_unixtime(col(\"ts\").cast(\"long\")).cast(\"timestamp\"))\n",
    "http.createOrReplaceTempView('http')\n",
    "dns.createOrReplaceTempView('dns')"
   ]
  },
  {
   "cell_type": "code",
   "execution_count": 7,
   "id": "814110d4a7536b9d",
   "metadata": {
    "ExecuteTime": {
     "end_time": "2025-04-02T02:09:50.746979Z",
     "start_time": "2025-04-02T02:08:56.859291Z"
    },
    "collapsed": false,
    "jupyter": {
     "outputs_hidden": false
    }
   },
   "outputs": [
    {
     "name": "stdout",
     "output_type": "stream",
     "text": [
      "+-------------------+------------------+--------------+---------+---------------+---------+-----------+------+---------------+--------------+-------+--------------------+----------------+-----------------+-----------+----------+----+----------+---------------+-------+----------+---------------+------+--------+--------+--------------+--------------+\n",
      "|                 ts|               uid|     id.orig_h|id.orig_p|      id.resp_h|id.resp_p|trans_depth|method|           host|           uri|version|          user_agent|request_body_len|response_body_len|status_code|status_msg|tags|resp_fuids|resp_mime_types|proxied|orig_fuids|orig_mime_types|origin|referrer|username|orig_filenames|resp_filenames|\n",
      "+-------------------+------------------+--------------+---------+---------------+---------+-----------+------+---------------+--------------+-------+--------------------+----------------+-----------------+-----------+----------+----+----------+---------------+-------+----------+---------------+------+--------+--------+--------------+--------------+\n",
      "|2012-03-16 12:30:00|CGDtd71qLp5oCHO9Nc|192.168.202.79|    50465|192.168.229.251|       80|          1|  HEAD|192.168.229.251|/DEASLog02.nsf|    1.1|Mozilla/5.0 (comp...|               0|                0|      404.0| Not Found|  []|      NULL|           NULL|   NULL|      NULL|           NULL|  NULL|    NULL|    NULL|          NULL|          NULL|\n",
      "|2012-03-16 12:30:00| C5TvhWicXfEjXE3Sg|192.168.202.79|    50467|192.168.229.251|       80|          1|  HEAD|192.168.229.251|/DEASLog03.nsf|    1.1|Mozilla/5.0 (comp...|               0|                0|      404.0| Not Found|  []|      NULL|           NULL|   NULL|      NULL|           NULL|  NULL|    NULL|    NULL|          NULL|          NULL|\n",
      "+-------------------+------------------+--------------+---------+---------------+---------+-----------+------+---------------+--------------+-------+--------------------+----------------+-----------------+-----------+----------+----+----------+---------------+-------+----------+---------------+------+--------+--------+--------------+--------------+\n",
      "only showing top 2 rows\n",
      "\n",
      "+-------------------+------------------+---------------+---------+--------------+---------+-----+--------+-----+------+-----------+-----+----------+-----+----------+-----+-----+-----+-----+---+--------+----+-------+----+\n",
      "|                 ts|               uid|      id.orig_h|id.orig_p|     id.resp_h|id.resp_p|proto|trans_id|query|qclass|qclass_name|qtype|qtype_name|rcode|rcode_name|   AA|   TC|   RD|   RA|  Z|rejected| rtt|answers|TTLs|\n",
      "+-------------------+------------------+---------------+---------+--------------+---------+-----+--------+-----+------+-----------+-----+----------+-----+----------+-----+-----+-----+-----+---+--------+----+-------+----+\n",
      "|2012-03-16 12:30:05|COvU0V3gP0gvKdcsq2|192.168.202.100|    45658|192.168.27.203|      137|  udp|   33008|    *|   1.0| C_INTERNET| 33.0|    NBSTAT|  0.0|   NOERROR|False|False|False|False|  1|   False|NULL|   NULL|NULL|\n",
      "|2012-03-16 12:30:24|C7wGuZ1oib97jCbF0k|192.168.202.100|    45658|192.168.27.202|      137|  udp|   33008|    *|   1.0| C_INTERNET| 33.0|    NBSTAT|  0.0|   NOERROR|False|False|False|False|  1|   False|NULL|   NULL|NULL|\n",
      "+-------------------+------------------+---------------+---------+--------------+---------+-----+--------+-----+------+-----------+-----+----------+-----+----------+-----+-----+-----+-----+---+--------+----+-------+----+\n",
      "only showing top 2 rows\n",
      "\n"
     ]
    }
   ],
   "source": [
    "# 示例查询\n",
    "spark.sql(\"SELECT * FROM http\").show(2)\n",
    "spark.sql(\"SELECT * FROM dns\").show(2)\n"
   ]
  },
  {
   "cell_type": "markdown",
   "id": "75401c07bc1d8479",
   "metadata": {
    "collapsed": false,
    "jupyter": {
     "outputs_hidden": false
    }
   },
   "source": [
    "(2) [2 points] With the http log data, filter the rows where the status code is 200 and\n",
    "method is GET, sort in a descending order according to the accessed count of the uri .\n",
    "Use Spark SQL API and Spark dataframe, seperately"
   ]
  },
  {
   "cell_type": "code",
   "execution_count": 8,
   "id": "e53aa2a46f520fe5",
   "metadata": {
    "collapsed": false,
    "jupyter": {
     "outputs_hidden": false
    }
   },
   "outputs": [
    {
     "name": "stderr",
     "output_type": "stream",
     "text": [
      "[Stage 4:==========================================>                (5 + 2) / 7]"
     ]
    },
    {
     "name": "stdout",
     "output_type": "stream",
     "text": [
      "+--------------------+------------+\n",
      "|                 uri|access_count|\n",
      "+--------------------+------------+\n",
      "|                   /|        9473|\n",
      "|/admin/config.php...|         556|\n",
      "|  /main.php?logout=1|         194|\n",
      "|/top.php?stuff=15...|         191|\n",
      "|            /top.php|         179|\n",
      "|/main.php?stuff=1...|         172|\n",
      "|  /get_latest_id.php|         159|\n",
      "|/admin/config.php...|         138|\n",
      "|    /cacti/index.php|         129|\n",
      "|/en-US/api/messag...|         118|\n",
      "|          /index.php|         105|\n",
      "|/phpmyadmin/index...|          77|\n",
      "|             /cacti/|          68|\n",
      "|        /phpmyadmin/|          56|\n",
      "|        /favicon.ico|          55|\n",
      "|              /admin|          42|\n",
      "|  /scripts/index.php|          40|\n",
      "|             /icons/|          39|\n",
      "|/en-US/api/search...|          39|\n",
      "|  /cgi-bin/index.php|          37|\n",
      "+--------------------+------------+\n",
      "only showing top 20 rows\n",
      "\n"
     ]
    },
    {
     "name": "stderr",
     "output_type": "stream",
     "text": [
      "                                                                                "
     ]
    }
   ],
   "source": [
    "Q2=spark.sql(\"\"\"\n",
    "select uri,count(*) as access_count from http\n",
    "where status_code=200\n",
    "and method='GET'\n",
    "group by uri\n",
    "order by access_count desc\n",
    "\"\"\")\n",
    "Q2.show()\n",
    "Q2.createOrReplaceTempView('q2')"
   ]
  },
  {
   "cell_type": "code",
   "execution_count": 9,
   "id": "89f17e64c846d595",
   "metadata": {
    "collapsed": false,
    "jupyter": {
     "outputs_hidden": false
    }
   },
   "outputs": [
    {
     "name": "stderr",
     "output_type": "stream",
     "text": [
      "[Stage 7:==========================================>                (5 + 2) / 7]"
     ]
    },
    {
     "name": "stdout",
     "output_type": "stream",
     "text": [
      "+--------------------+------------+\n",
      "|                 uri|access_count|\n",
      "+--------------------+------------+\n",
      "|                   /|        9473|\n",
      "|/admin/config.php...|         556|\n",
      "|  /main.php?logout=1|         194|\n",
      "|/top.php?stuff=15...|         191|\n",
      "|            /top.php|         179|\n",
      "|/main.php?stuff=1...|         172|\n",
      "|  /get_latest_id.php|         159|\n",
      "|/admin/config.php...|         138|\n",
      "|    /cacti/index.php|         129|\n",
      "|/en-US/api/messag...|         118|\n",
      "|          /index.php|         105|\n",
      "|/phpmyadmin/index...|          77|\n",
      "|             /cacti/|          68|\n",
      "|        /phpmyadmin/|          56|\n",
      "|        /favicon.ico|          55|\n",
      "|              /admin|          42|\n",
      "|  /scripts/index.php|          40|\n",
      "|             /icons/|          39|\n",
      "|/en-US/api/search...|          39|\n",
      "|  /cgi-bin/index.php|          37|\n",
      "+--------------------+------------+\n",
      "only showing top 20 rows\n",
      "\n"
     ]
    },
    {
     "name": "stderr",
     "output_type": "stream",
     "text": [
      "                                                                                "
     ]
    }
   ],
   "source": [
    "from pyspark.sql.functions import col, count, desc\n",
    "\n",
    "# 核心逻辑\n",
    "result = (\n",
    "    http\n",
    "    .filter((col(\"status_code\") == 200) & (col(\"method\") == \"GET\"))  \n",
    "    .groupBy(\"uri\")                                                \n",
    "    .agg(count(\"*\").alias(\"access_count\"))                          \n",
    "    .orderBy(desc(\"access_count\"))                                 \n",
    ")\n",
    "\n",
    "result.show()  # 显示结果"
   ]
  },
  {
   "cell_type": "markdown",
   "id": "2fa5495abe5fb99a",
   "metadata": {
    "collapsed": false,
    "jupyter": {
     "outputs_hidden": false
    }
   },
   "source": [
    "(3) [2 points] Use Spark SQL to join the http_log and dns_log tables by uid , and\n",
    "calculate the percentage of proto=tcp for each uri group found in taks (2).\n"
   ]
  },
  {
   "cell_type": "code",
   "execution_count": 10,
   "id": "4a2a3590-0328-469a-b309-9eaf6b222b84",
   "metadata": {},
   "outputs": [
    {
     "name": "stderr",
     "output_type": "stream",
     "text": [
      "                                                                                "
     ]
    },
    {
     "name": "stdout",
     "output_type": "stream",
     "text": [
      "+---+-----------+\n",
      "|uri|tcp_percent|\n",
      "+---+-----------+\n",
      "+---+-----------+\n",
      "\n"
     ]
    },
    {
     "name": "stderr",
     "output_type": "stream",
     "text": [
      "                                                                                "
     ]
    }
   ],
   "source": [
    "spark.sql(\"\"\"\n",
    "WITH joined_table AS (\n",
    "    SELECT \n",
    "        http.uid,\n",
    "        http.uri,  \n",
    "        dns.proto\n",
    "    FROM http\n",
    "    INNER JOIN dns\n",
    "        ON http.uid = dns.uid\n",
    "    WHERE http.uri IN (SELECT uri FROM q2)\n",
    ")\n",
    "SELECT \n",
    "    uri,\n",
    "    100.0 * COUNT_IF(proto = 'tcp') / COUNT(*) AS tcp_percent\n",
    "FROM joined_table\n",
    "GROUP BY uri\n",
    "\"\"\").show()"
   ]
  },
  {
   "cell_type": "markdown",
   "id": "e4294978-bfe3-45f8-98f1-605391fb8a17",
   "metadata": {},
   "source": []
  },
  {
   "cell_type": "code",
   "execution_count": null,
   "id": "999bf360-8b2b-47d0-8528-d0a812b03cb5",
   "metadata": {},
   "outputs": [],
   "source": []
  }
 ],
 "metadata": {
  "kernelspec": {
   "display_name": "Python 3 (ipykernel)",
   "language": "python",
   "name": "python3"
  },
  "language_info": {
   "codemirror_mode": {
    "name": "ipython",
    "version": 3
   },
   "file_extension": ".py",
   "mimetype": "text/x-python",
   "name": "python",
   "nbconvert_exporter": "python",
   "pygments_lexer": "ipython3",
   "version": "3.10.12"
  }
 },
 "nbformat": 4,
 "nbformat_minor": 5
}
